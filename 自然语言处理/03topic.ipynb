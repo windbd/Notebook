{
 "cells": [
  {
   "attachments": {},
   "cell_type": "markdown",
   "id": "b89d7f33",
   "metadata": {},
   "source": [
    "# 参考\n",
    "- [NLP关键词提取必备：从TFIDF到KeyBert范式原理优缺点与开源实现](https://mp.weixin.qq.com/s/H2aRyF3tNZCCOxa4Oy2JMw)\n",
    "- [盘点 KeyBert、TextRank 等九种主流关键词提取算法原理及 Python 代码实现](https://zhuanlan.zhihu.com/p/568271135)\n",
    "- [NLP关键词提取方法总结及实现](https://blog.csdn.net/asialee_bird/article/details/96454544)\n",
    "- "
   ]
  },
  {
   "attachments": {},
   "cell_type": "markdown",
   "id": "3210c2b3-775e-4e08-ba4e-90c47e7c7c6a",
   "metadata": {
    "tags": [],
    "toc-hr-collapsed": true
   },
   "source": [
    "# 基于词袋加权的TFIDF算法"
   ]
  },
  {
   "cell_type": "code",
   "execution_count": null,
   "id": "93da8a7c-5cb4-4724-b693-943e3f8c102d",
   "metadata": {},
   "outputs": [],
   "source": [
    "import jieba.analyse\n",
    "text = \"美国总统拜登当地时间26日又语出惊人。据路透社报道，拜登当天在波兰的演 讲中，称俄罗斯总统普京“不能继续掌权了”。\\\n",
    "    白宫官员随后出来解释，克里姆林宫同日 也作出回应，称“这不是由拜登决定的”。报道称，在华沙皇家城堡发表的讲话中，拜登在\\\n",
    "    谴责普京后表示“看在上帝的份上，这个人不能继续掌权了”。对此，路透社表示，该言论引发了华盛顿方面对局势升级的担忧，美国\\\n",
    "    一直避免直接对乌克兰进行军事干预，并明确表示不支持政权更迭。随后，一名白宫官员对拜登这番话进行解释，称拜登的言论并不\\\n",
    "    代表华盛顿政策的转变，其目的是让世界为乌克兰问题上的长期冲突做好准备。该官员称，拜登意为“不能 允许普京对其邻国或该地区\\\n",
    "    行使权力”，而不是在讨论普京在俄罗斯的权力或俄 罗斯的政权 更迭问题。同日，路透社称，被问及拜登这一言论时，俄罗斯总统新闻\\\n",
    "    秘书佩斯科夫作出回应，称“这不是由拜登决定的。俄罗斯总统是由俄罗斯人选举产生的”。此前 ，俄罗斯安全会议副主席梅德韦杰夫接受\\\n",
    "    俄媒采访时曾表示，俄特别军事行动既定目标包括实现乌克兰去军事化、去纳粹化、成为中立国家、不奉行反俄政策。俄开展特别军事行动\\\n",
    "    首先是因为其设定的目标未能通过外交方式实现。他表示，社会调查显示，四分之三的俄罗斯民众支持在乌开展特别军事行动。西方国家企\\\n",
    "    图通过制裁影响俄民众，煽动他们反对政府，结果适得其反。\"\n",
    "jieba.analyse.extract_tags(text, topK=20, withWeight=True, allowPOS=('ns', 'n', 'vn', 'v','nr', 'nt'))"
   ]
  },
  {
   "cell_type": "code",
   "execution_count": 1,
   "id": "c0da66dd",
   "metadata": {},
   "outputs": [
    {
     "name": "stdout",
     "output_type": "stream",
     "text": [
      "{'document': 0, 'first': 1, 'is': 2, 'the': 3, 'this': 4, 'second': 5, 'and': 6, 'one': 7, 'third': 8}\n",
      "[[(0, 0.33699829595119235), (1, 0.8119707171924228), (2, 0.33699829595119235), (4, 0.33699829595119235)], [(0, 0.10212329019650272), (2, 0.10212329019650272), (4, 0.10212329019650272), (5, 0.9842319344536239)], [(6, 0.5773502691896258), (7, 0.5773502691896258), (8, 0.5773502691896258)], [(0, 0.33699829595119235), (1, 0.8119707171924228), (2, 0.33699829595119235), (4, 0.33699829595119235)]]\n"
     ]
    }
   ],
   "source": [
    "# 输入语料库\n",
    "corpus = ['this is the first document',\n",
    "        'this is the second second document',\n",
    "        'and the third one',\n",
    "        'is this the first document']\n",
    "\n",
    "words_list = list()\n",
    "for i in range(len(corpus)):\n",
    "    words_list.append(corpus[i].split(' '))\n",
    "### 第一种 gensim\n",
    "from gensim import corpora\n",
    "# 赋给语料库中每个词(不重复的词)一个整数id\n",
    "dic = corpora.Dictionary(words_list)\n",
    "# print(dic.token2id)\n",
    "# 元组中第一个元素是词语在词典中对应的id，第二个元素是词语在文档中出现的次数\n",
    "new_corpus = [dic.doc2bow(words) for words in words_list]\n",
    "\n",
    "# 训练模型并保存\n",
    "from gensim import models\n",
    "tfidf = models.TfidfModel(new_corpus)\n",
    "tfidf_vec = []\n",
    "for i in range(len(corpus)):\n",
    "    string = corpus[i]\n",
    "    string_bow = dic.doc2bow(string.lower().split())\n",
    "    string_tfidf = tfidf[string_bow]\n",
    "    tfidf_vec.append(string_tfidf)\n",
    "# 输出 词语id与词语tfidf值\n",
    "print(tfidf_vec)\n",
    "\n",
    "# ### 第二种 sklearn\n",
    "# from sklearn.feature_extraction.text import TfidfVectorizer\n",
    "# tfidf_vec = TfidfVectorizer()\n",
    "# tfidf_matrix = tfidf_vec.fit_transform(corpus)\n",
    "# # 得到语料库所有不重复的词\n",
    "# print(tfidf_vec.get_feature_names())\n",
    "# # 得到每个单词对应的id值\n",
    "# print(tfidf_vec.vocabulary_)\n",
    "# # 得到每个句子所对应的向量，向量里数字的顺序是按照词语的id顺序来的\n",
    "# print(tfidf_matrix.toarray())"
   ]
  },
  {
   "cell_type": "markdown",
   "id": "d5c241e5-10ad-4706-8201-088b1dd8d31e",
   "metadata": {},
   "source": [
    "# 考虑词关联网络的TextRank算法"
   ]
  },
  {
   "cell_type": "code",
   "execution_count": null,
   "id": "ab705f20-87fb-4bf2-8bf7-872b1c437b1e",
   "metadata": {},
   "outputs": [],
   "source": [
    "import jieba.analyse\n",
    "text = \"美国总统拜登当地时间26日又语出惊人。据路透社报道，拜登当天在波兰的演 讲中，称俄罗斯总统普京“不能继续掌权了”。\\\n",
    "    白宫官员随后出来解释，克里姆林宫同日 也作出回应，称“这不是由拜登决定的”。报道称，在华沙皇家城堡发表的讲话中，拜登在\\\n",
    "    谴责普京后表示“看在上帝的份上，这个人不能继续掌权了”。对此，路透社表示，该言论引发了华盛顿方面对局势升级的担忧，美国\\\n",
    "    一直避免直接对乌克兰进行军事干预，并明确表示不支持政权更迭。随后，一名白宫官员对拜登这番话进行解释，称拜登的言论并不\\\n",
    "    代表华盛顿政策的转变，其目的是让世界为乌克兰问题上的长期冲突做好准备。该官员称，拜登意为“不能 允许普京对其邻国或该地区\\\n",
    "    行使权力”，而不是在讨论普京在俄罗斯的权力或俄 罗斯的政权 更迭问题。同日，路透社称，被问及拜登这一言论时，俄罗斯总统新闻\\\n",
    "    秘书佩斯科夫作出回应，称“这不是由拜登决定的。俄罗斯总统是由俄罗斯人选举产生的”。此前 ，俄罗斯安全会议副主席梅德韦杰夫接受\\\n",
    "    俄媒采访时曾表示，俄特别军事行动既定目标包括实现乌克兰去军事化、去纳粹化、成为中立国家、不奉行反俄政策。俄开展特别军事行动\\\n",
    "    首先是因为其设定的目标未能通过外交方式实现。他表示，社会调查显示，四分之三的俄罗斯民众支持在乌开展特别军事行动。西方国家企\\\n",
    "    图通过制裁影响俄民众，煽动他们反对政府，结果适得其反。\"\n",
    "jieba.analyse.textrank(text, topK=20, withWeight=True, allowPOS=('ns', 'n', 'vn', 'v','nr', 'nt'))"
   ]
  },
  {
   "attachments": {},
   "cell_type": "markdown",
   "id": "fea971fc",
   "metadata": {},
   "source": [
    "# 结合主题的LDA算法\n",
    "`sklearn`库和`genism`库"
   ]
  },
  {
   "cell_type": "code",
   "execution_count": null,
   "id": "a3956b86",
   "metadata": {},
   "outputs": [],
   "source": [
    "## 英文语料库\n",
    "from nltk.stem import WordNetLemmatizer\n",
    "from nltk import pos_tag\n",
    "from nltk.corpus import wordnet\n",
    "\n",
    "def get_wordnet_pos(tag):\n",
    "    if tag.startswith('J'):\n",
    "        return wordnet.ADJ\n",
    "    elif tag.startswith('V'):\n",
    "        return wordnet.VERB\n",
    "    elif tag.startswith('N'):\n",
    "        return wordnet.NOUN\n",
    "    elif tag.startswith('R'):\n",
    "        return wordnet.ADV\n",
    "    else:\n",
    "        return wordnet.NOUN\n",
    "    \n",
    "# Define the word list\n",
    "word_list = [[\"running\", \"cars\"],[\"better\", \"driving\"]]\n",
    "\n",
    "# Lemmatize list of words and join\n",
    "def lemmatize_sentence(list):\n",
    "    lemmatizer = WordNetLemmatizer()\n",
    "    tagged_sentence = pos_tag(list)\n",
    "    lemmatized_sentence = [lemmatizer.lemmatize(word, get_wordnet_pos(tag)) for word, tag in tagged_sentence]\n",
    "    return lemmatized_sentence\n",
    "\n",
    "# Lemmatize the word list\n",
    "lemmatized_output = [lemmatize_sentence(word) for word in word_list]"
   ]
  },
  {
   "cell_type": "code",
   "execution_count": null,
   "id": "ae124e73",
   "metadata": {},
   "outputs": [],
   "source": [
    "from gensim import corpora, models\n",
    "from gensim.models import LdaModel\n",
    "\n",
    "# Create the term dictionary of our corpus, where every unique term is assigned an index\n",
    "dictionary = corpora.Dictionary(lemmatized_output)\n",
    "\n",
    "# Convert list of documents (corpus) into Document Term Matrix using dictionary prepared above.\n",
    "corpus = [dictionary.doc2bow(doc) for doc in lemmatized_output]\n",
    "\n",
    "# Create a TF-IDF model from the corpus\n",
    "tfidf = models.TfidfModel(corpus)\n",
    "\n",
    "# Transform the corpus to TF-IDF\n",
    "corpus_tfidf = tfidf[corpus]"
   ]
  },
  {
   "cell_type": "code",
   "execution_count": null,
   "id": "a7dcbf72",
   "metadata": {},
   "outputs": [],
   "source": [
    "import matplotlib.pyplot as plt\n",
    "from gensim.models import CoherenceModel\n",
    "from tqdm import tqdm\n",
    "# Create empty lists to store coherence and perplexity values\n",
    "coherence_values = []\n",
    "perplexity_values = []\n",
    "range_topics = range(1, 6)\n",
    "\n",
    "# Loop through different numbers of topics\n",
    "for num_topics in tqdm(range_topics):\n",
    "    # Train LDA model with the given number of topics\n",
    "    ldamodel = LdaModel(corpus_tfidf, num_topics=num_topics, id2word=dictionary, passes=50)\n",
    "    # Calculate coherence score\n",
    "    coherence_model = CoherenceModel(model=ldamodel, texts=lemmatized_output, dictionary=dictionary, coherence='c_v')\n",
    "    coherence = coherence_model.get_coherence()\n",
    "    # Calculate perplexity\n",
    "    perplexity = ldamodel.log_perplexity(corpus_tfidf)\n",
    "    # Append coherence and perplexity values to the lists\n",
    "    coherence_values.append(coherence)\n",
    "    perplexity_values.append(perplexity)\n",
    "\n",
    "# Plot the relationship between number of topics and coherence values\n",
    "fig, ax1 = plt.subplots()\n",
    "line1, = ax1.plot(range_topics, coherence_values, label='Coherence', color='blue')\n",
    "ax1.set_xlabel('Number of Topics')\n",
    "ax1.set_ylabel('Coherence', color='blue')\n",
    "ax1.tick_params(axis='y', labelcolor='blue')\n",
    "\n",
    "# Create a second y-axis for perplexity values\n",
    "ax2 = ax1.twinx()\n",
    "line2, = ax2.plot(range_topics, perplexity_values, label='Perplexity', color='red')\n",
    "ax2.set_ylabel('Perplexity', color='red')\n",
    "ax2.tick_params(axis='y', labelcolor='red')\n",
    "\n",
    "# Set title and legend\n",
    "plt.title('Coherence and Perplexity vs. Number of Topics')\n",
    "\n",
    "# Combine legends\n",
    "lines = [line1, line2]\n",
    "labels = [l.get_label() for l in lines]\n",
    "ax1.legend(lines, labels, loc='upper right')\n",
    "\n",
    "# Show the plot\n",
    "plt.show()\n"
   ]
  },
  {
   "cell_type": "markdown",
   "id": "c6c7bdb4",
   "metadata": {},
   "source": [
    "# 结合语义编码的KeyBert算法"
   ]
  },
  {
   "cell_type": "code",
   "execution_count": 2,
   "id": "2c8bc57a",
   "metadata": {},
   "outputs": [
    {
     "name": "stderr",
     "output_type": "stream",
     "text": [
      "No sentence-transformers model found with name C:\\Users\\Lenovo/.cache\\torch\\sentence_transformers\\bert-base-uncased. Creating a new one with MEAN pooling.\n"
     ]
    },
    {
     "data": {
      "text/plain": [
       "[('like', 0.4824)]"
      ]
     },
     "execution_count": 2,
     "metadata": {},
     "output_type": "execute_result"
    }
   ],
   "source": [
    "from keybert import KeyBERT\n",
    "import jieba \n",
    "\n",
    "# model = KeyBERT('bert-base-chinese')\n",
    "# text = \"美国总统拜登当地时间26日又语出惊人。据路透社报道，拜登当天在波兰的演 讲中，称俄罗斯总统普京“不能继续掌权了”。\\\n",
    "# 白宫官员随后出来解释，克里姆林宫同日也作出回应，称“这不是由拜登决定的”。报道称，在华沙皇家城堡发表的讲话中，\\\n",
    "# 拜登在谴责普京后表示“看在上帝的份上，这个人不能继续掌权了”。对此，路透社表示，该言论引发了华盛顿方面对局势升级的担忧，\\\n",
    "# 美国一直避免直接对乌克兰进行军事干预，并明确表示不支持政权更迭。随后，一名白宫官员对拜登这番话进行解释，称拜登的言论并不代表华盛顿政策的转变，\\\n",
    "# 其目的是让世界为乌克兰问题上的长期冲突做好准备。该官员称，拜登意为“不能 允许普京对其邻国或该地区行使权力”，\\\n",
    "# 而不是在讨论普京在俄罗斯的权力或俄罗斯的政权 更迭问题。同日，路透社称，被问及拜登这一言论时，俄罗斯总统新闻秘书佩斯科夫作出回应，\\\n",
    "# 称“这不是由拜登决定的。俄罗斯总统是由俄罗斯人选举产生的”。此前，俄罗斯安全会议副主席梅德韦杰夫接受俄媒采访时曾表示，\\\n",
    "# 俄特别军事行动既定目标包括实现乌克兰去军事化、去纳粹化、成为中立国家、不奉行反俄政策。俄开展特别军事行动首先是因为其设定的目标未能通过外交方式实现。\\\n",
    "# 他表示，社会调查显示，四分之三的俄罗斯民众支持在乌开展特别军事行动。西方国家企图通过制裁影响俄民众，煽动他们反对政府，结果适得其反。\"\n",
    "# doc = \" \".join(jieba.cut(text))\n",
    "\n",
    "model = KeyBERT('bert-base-uncased')\n",
    "doc = \"I like it very much\"\n",
    "keywords = model.extract_keywords(doc, keyphrase_ngram_range=(1,2),  top_n=20)\n",
    "keywords"
   ]
  },
  {
   "cell_type": "code",
   "execution_count": null,
   "id": "bc80d418",
   "metadata": {},
   "outputs": [],
   "source": []
  }
 ],
 "metadata": {
  "kernelspec": {
   "display_name": "Python 3.8.8 64-bit",
   "language": "python",
   "name": "python3"
  },
  "language_info": {
   "codemirror_mode": {
    "name": "ipython",
    "version": 3
   },
   "file_extension": ".py",
   "mimetype": "text/x-python",
   "name": "python",
   "nbconvert_exporter": "python",
   "pygments_lexer": "ipython3",
   "version": "3.9.18"
  },
  "toc-autonumbering": false,
  "toc-showcode": false,
  "toc-showmarkdowntxt": true,
  "toc-showtags": false,
  "vscode": {
   "interpreter": {
    "hash": "bfd284e930bc93997eea298487d531cdfdbc0f39007072028ce7af8882c61801"
   }
  }
 },
 "nbformat": 4,
 "nbformat_minor": 5
}
