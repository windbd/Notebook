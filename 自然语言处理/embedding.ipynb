{
 "cells": [
  {
   "cell_type": "markdown",
   "metadata": {},
   "source": [
    "MTEB: https://huggingface.co/spaces/mteb/leaderboard"
   ]
  },
  {
   "cell_type": "code",
   "execution_count": 2,
   "metadata": {},
   "outputs": [],
   "source": [
    "from sentence_transformers import SentenceTransformer\n",
    "model = SentenceTransformer('aspire/acge_text_embedding')"
   ]
  },
  {
   "cell_type": "code",
   "execution_count": 3,
   "metadata": {},
   "outputs": [
    {
     "name": "stdout",
     "output_type": "stream",
     "text": [
      "[[0.9815674  0.71884865 0.05817778 0.02545429]]\n"
     ]
    }
   ],
   "source": [
    "texts1 = [\"胡子长得太快怎么办？\"]\n",
    "texts2 = [\"胡子长得快怎么办？\", \"怎样使胡子不浓密！\", \"香港买手表哪里好\", \"在杭州手机到哪里买\"]\n",
    "embs1 = model.encode(texts1, normalize_embeddings=True)\n",
    "embs2 = model.encode(texts2, normalize_embeddings=True)\n",
    "similarity = embs1 @ embs2.T\n",
    "print(similarity) "
   ]
  },
  {
   "cell_type": "code",
   "execution_count": 4,
   "metadata": {},
   "outputs": [
    {
     "name": "stdout",
     "output_type": "stream",
     "text": [
      "查询文本：胡子长得太快怎么办？\n",
      "相似文本：胡子长得快怎么办？，打分：0.9815673828125\n",
      "相似文本：怎样使胡子不浓密！，打分：0.7188486456871033\n",
      "相似文本：香港买手表哪里好，打分：0.05817778408527374\n",
      "相似文本：在杭州手机到哪里买，打分：0.025454288348555565\n",
      "\n"
     ]
    }
   ],
   "source": [
    "# 获取 texts1[i] 对应的最相似 texts2[j]\n",
    "for i in range(len(texts1)):\n",
    "    scores = []\n",
    "    for j in range(len(texts2)):\n",
    "        scores.append([texts2[j], similarity[i][j]])\n",
    "    scores = sorted(scores, key=lambda x:x[1], reverse=True)\n",
    "\n",
    "    print(f\"查询文本：{texts1[i]}\")\n",
    "    for text2, score in scores:\n",
    "        print(f\"相似文本：{text2}，打分：{score}\")\n",
    "    print() "
   ]
  },
  {
   "cell_type": "code",
   "execution_count": null,
   "metadata": {},
   "outputs": [],
   "source": []
  }
 ],
 "metadata": {
  "kernelspec": {
   "display_name": "pt1.12",
   "language": "python",
   "name": "python3"
  },
  "language_info": {
   "codemirror_mode": {
    "name": "ipython",
    "version": 3
   },
   "file_extension": ".py",
   "mimetype": "text/x-python",
   "name": "python",
   "nbconvert_exporter": "python",
   "pygments_lexer": "ipython3",
   "version": "3.9.18"
  }
 },
 "nbformat": 4,
 "nbformat_minor": 2
}
