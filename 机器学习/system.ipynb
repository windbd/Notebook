{
 "cells": [
  {
   "cell_type": "markdown",
   "metadata": {},
   "source": [
    "系统自带命令"
   ]
  },
  {
   "cell_type": "code",
   "execution_count": null,
   "metadata": {},
   "outputs": [],
   "source": [
    "# !使用shell命令\n",
    "!conda info --e \n",
    "!jupyter --version\n",
    "#magic命令 %:行命令 %%:单元格命令\n",
    "%lsmagic\n",
    "#查看用法 ?:普通信息 ??:详细信息 \n",
    "# ?print\n",
    "# 可以使用 ! 或者 %%bash 来运行 bash 命令，%%bash 可以用于多行命令\n",
    "%%bash "
   ]
  },
  {
   "cell_type": "markdown",
   "metadata": {},
   "source": [
    "查看系统信息"
   ]
  },
  {
   "cell_type": "code",
   "execution_count": 1,
   "metadata": {},
   "outputs": [
    {
     "name": "stdout",
     "output_type": "stream",
     "text": [
      "6 12\n"
     ]
    },
    {
     "name": "stderr",
     "output_type": "stream",
     "text": [
      "d:\\Download\\Miniconda\\envs\\pt1.12\\lib\\site-packages\\tqdm\\auto.py:21: TqdmWarning: IProgress not found. Please update jupyter and ipywidgets. See https://ipywidgets.readthedocs.io/en/stable/user_install.html\n",
      "  from .autonotebook import tqdm as notebook_tqdm\n"
     ]
    },
    {
     "name": "stdout",
     "output_type": "stream",
     "text": [
      "1.12.1+cu116\n",
      "True\n",
      "1\n",
      "NVIDIA GeForce RTX 3050 Laptop GPU\n",
      "0\n",
      "11.6\n",
      "8302\n",
      "cpu\n",
      "cuda:0\n"
     ]
    }
   ],
   "source": [
    "#查看计算机信息\n",
    "import psutil\n",
    "print(psutil.cpu_count(logical=False),psutil.cpu_count())\n",
    "\n",
    "# 查看pytorch的信息\n",
    "import torch\n",
    "print(torch.__version__)#torch的版本\n",
    "print(torch.cuda.is_available())#cuda是否可用\n",
    "print(torch.cuda.device_count())# 返回gpu数量\n",
    "print(torch.cuda.get_device_name(0))# 返回gpu名字，设备索引默认从0开始\n",
    "print(torch.cuda.current_device())# 返回当前设备索引\n",
    "print(torch.version.cuda) # 查看CUDA的版本号\n",
    "print(torch.backends.cudnn.version())\n",
    "# os.environ[\"CUDA_VISIBLE_DEVICES\"] = \"0, 1, 2, 3\"#官方推荐的指定GPU的命令;切换GPU的索引\n",
    "x = torch.ones(2,3)\n",
    "print(x.device)\n",
    "y = x.cuda(0)\n",
    "print(y.device)\n",
    "\n",
    "# # 查看tensorflow的信息\n",
    "# import tensorflow as tf\n",
    "# print(tf.__version__)\n",
    "# print(tf.test.gpu_device_name())\n",
    "# print(tf.config.experimental.set_visible_devices)\n",
    "# print('GPU:', tf.config.list_physical_devices('GPU'))\n",
    "# print('CPU:', tf.config.list_physical_devices(device_type='CPU'))\n",
    "# print(tf.config.list_physical_devices('GPU'))\n",
    "# print(tf.test.is_gpu_available())\n",
    "# # 输出可用的GPU数量\n",
    "# print(\"Num GPUs Available: \", len(tf.config.experimental.list_physical_devices('GPU')))\n",
    "# # 查询GPU设备"
   ]
  },
  {
   "cell_type": "markdown",
   "metadata": {},
   "source": [
    "查看系统目录"
   ]
  },
  {
   "cell_type": "code",
   "execution_count": null,
   "metadata": {},
   "outputs": [],
   "source": [
    "# import os\n",
    "# # 切换当前工作路径\n",
    "# os.chdir(path='/home/hfut3304/data/workspace_wzj/DKT/')\n",
    "# # 表示当前所处的文件夹的绝对路径\n",
    "# print(os.getcwd())\n",
    "# print(os.path.abspath('.'))\n",
    "# # 表示当前所处的文件夹上一级文件夹的绝对路径\n",
    "# print(os.path.abspath('..'))\n",
    "# print(os.path.abspath(os.path.join(os.getcwd(), \"..\")))\n",
    "# # 获取上上级目录\n",
    "# print(os.path.abspath(os.path.join(os.getcwd(), \"../..\")))"
   ]
  },
  {
   "cell_type": "markdown",
   "metadata": {},
   "source": [
    "查看系统编码"
   ]
  },
  {
   "cell_type": "code",
   "execution_count": null,
   "metadata": {},
   "outputs": [],
   "source": [
    "import sys\n",
    "sys.getdefaultencoding()\n",
    "### 1.python2中，如果代码或者注释有中文，在python文件的开头加入\n",
    "# -*- coding: UTF-8 -*-\n",
    "# coding=utf-8 推荐使用\n",
    "# 注：如果是读写文件为 encoding: utf-8\n",
    "### 2.设置Linux/Unix用户的解释器路径\n",
    "#!/usr/bin/env python"
   ]
  },
  {
   "cell_type": "markdown",
   "metadata": {},
   "source": [
    "## 命令行运行"
   ]
  },
  {
   "cell_type": "code",
   "execution_count": null,
   "metadata": {},
   "outputs": [],
   "source": [
    "import subprocess\n",
    "\n",
    "# 定义你的参数\n",
    "arg1 = 'value1'\n",
    "arg2 = 'value2'\n",
    "\n",
    "# 运行你的Python脚本\n",
    "subprocess.run(['python', 'your_script.py', '--arg1', arg1, '--arg2', arg2])\n",
    "\n",
    "# 或者运行脚本\n",
    "! python your_script.py --arg1 value1 --arg2 value2"
   ]
  }
 ],
 "metadata": {
  "kernelspec": {
   "display_name": "pt39",
   "language": "python",
   "name": "python3"
  },
  "language_info": {
   "codemirror_mode": {
    "name": "ipython",
    "version": 3
   },
   "file_extension": ".py",
   "mimetype": "text/x-python",
   "name": "python",
   "nbconvert_exporter": "python",
   "pygments_lexer": "ipython3",
   "version": "3.9.18"
  }
 },
 "nbformat": 4,
 "nbformat_minor": 2
}
