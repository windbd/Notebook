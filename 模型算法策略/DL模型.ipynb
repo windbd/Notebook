{
 "cells": [
  {
   "cell_type": "markdown",
   "metadata": {},
   "source": [
    "# BERT模型\n",
    "- bert-base-chinese：中文\n",
    "- bert-base-cased：支持大小写\n",
    "- bert-base-uncased：仅支持小写（需要进行lower处理）\n",
    "- 配置文件 —— config.json——BertConfig\n",
    "- 模型文件 —— *.bin——BertModel\n",
    "- 词表文件 —— vocab.txt——BertTokenizer\n",
    "- bert名称加载（运行时从官方数据库下载）\n",
    "- 本地的bert文件夹地址（本地的bert文件夹下的config等文件地址）\n",
    "- 在预训练过程中，线性层权值会根据你的任务进行参数更新\n",
    "- 参数大小：(32000+512+2)x768+(3x768x64x12+768x768+768x4x768x2)=110M"
   ]
  },
  {
   "cell_type": "code",
   "execution_count": null,
   "metadata": {},
   "outputs": [],
   "source": [
    "# BERT模型调用方式\n",
    "from transformers import BertTokenizer, BertModel,BertConfig,BertForSequenceClassification\n",
    "tokenizer = BertTokenizer.from_pretrained('bert-base-uncased')# 加载分词表->设计数据集\n",
    "model = BertModel.from_pretrained(\"bert-base-uncased\")# 加载bert预训练模型\n",
    "config = BertConfig.from_pretrained(\"bert-base-uncased\")# 加载模型的参数->修改模型的默认参数\n",
    "classModel = BertForSequenceClassification.from_pretrained(\"bert-base-uncased\")# 加载下游的分类模型"
   ]
  },
  {
   "cell_type": "markdown",
   "metadata": {},
   "source": [
    "# LSTM模型"
   ]
  },
  {
   "cell_type": "code",
   "execution_count": null,
   "metadata": {},
   "outputs": [],
   "source": [
    "from torch import nn\n",
    "class Masked_LSTM(nn.Module):\n",
    "    # !!! 可以改进\n",
    "    def __init__(self, input_size, hidden_size, num_layers=1, batch_first=True, bidirectional=True, dropout=0.0):\n",
    "        super(Masked_LSTM, self).__init__()\n",
    "        self.lstm = nn.LSTM(input_size=input_size, hidden_size=hidden_size, num_layers=num_layers, batch_first=batch_first, bidirectional=bidirectional)\n",
    "    def forward(self, input, mask):\n",
    "        # 应用mask\n",
    "        masked_input = input * mask.unsqueeze(-1).float()\n",
    "        output, (hn, cn) = self.lstm(masked_input)\n",
    "        # 应用mask到输出\n",
    "        masked_output = output * mask.unsqueeze(-1).float()\n",
    "        # 将hn和cn变为2维\n",
    "        hn = hn.view(masked_output.size(0), -1)\n",
    "        cn = cn.view(masked_output.size(0), -1)\n",
    "        return masked_output, (hn, cn)"
   ]
  }
 ],
 "metadata": {
  "kernelspec": {
   "display_name": "demo",
   "language": "python",
   "name": "python3"
  },
  "language_info": {
   "name": "python",
   "version": "3.8.19"
  }
 },
 "nbformat": 4,
 "nbformat_minor": 2
}
