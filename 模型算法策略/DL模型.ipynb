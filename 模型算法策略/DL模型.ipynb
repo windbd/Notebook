{
 "cells": [
  {
   "cell_type": "code",
   "execution_count": null,
   "metadata": {},
   "outputs": [],
   "source": [
    "# BERT模型调用方式\n",
    "from transformers import BertTokenizer, BertModel,BertConfig,BertForSequenceClassification\n",
    "tokenizer = BertTokenizer.from_pretrained('bert-base-uncased')# 加载分词表->设计数据集\n",
    "model = BertModel.from_pretrained(\"bert-base-uncased\")# 加载bert预训练模型\n",
    "config = BertConfig.from_pretrained(\"bert-base-uncased\")# 加载模型的参数->修改模型的默认参数\n",
    "classModel = BertForSequenceClassification.from_pretrained(\"bert-base-uncased\")# 加载下游的分类模型"
   ]
  }
 ],
 "metadata": {
  "kernelspec": {
   "display_name": "demo",
   "language": "python",
   "name": "python3"
  },
  "language_info": {
   "name": "python",
   "version": "3.8.19"
  }
 },
 "nbformat": 4,
 "nbformat_minor": 2
}
