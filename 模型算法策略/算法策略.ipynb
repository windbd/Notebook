{
 "cells": [
  {
   "cell_type": "markdown",
   "metadata": {},
   "source": [
    "# 算法\n",
    "- warmup"
   ]
  },
  {
   "cell_type": "code",
   "execution_count": null,
   "metadata": {},
   "outputs": [],
   "source": [
    "import math\n",
    "from torch.optim import Optimizer\n",
    "from torch.optim.lr_scheduler import LambdaLR\n",
    "from torch.optim import AdamW\n",
    "def get_cosine_schedule_with_warmup(optimizer: Optimizer,num_warmup_steps: int,\n",
    "        num_training_steps: int,num_cycles: float = 0.5,last_epoch: int = -1):\n",
    "\t\"\"\"\n",
    "\tCreate a schedule with a learning rate that decreases following the values of the cosine function between the\n",
    "\tinitial lr set in the optimizer to 0, after a warmup period during which it increases linearly between 0 and the\n",
    "\tinitial lr set in the optimizer.\n",
    "\n",
    "\tArgs:\n",
    "\t\toptimizer (:class:`~torch.optim.Optimizer`):\n",
    "\t\tThe optimizer for which to schedule the learning rate.\n",
    "\t\tnum_warmup_steps (:obj:`int`):\n",
    "\t\tThe number of steps for the warmup phase.\n",
    "\t\tnum_training_steps (:obj:`int`):\n",
    "\t\tThe total number of training steps.\n",
    "\t\tnum_cycles (:obj:`float`, `optional`, defaults to 0.5):\n",
    "\t\tThe number of waves in the cosine schedule (the defaults is to just decrease from the max value to 0\n",
    "\t\tfollowing a half-cosine).\n",
    "\t\tlast_epoch (:obj:`int`, `optional`, defaults to -1):\n",
    "\t\tThe index of the last epoch when resuming training.\n",
    "\n",
    "\tReturn:\n",
    "\t\t:obj:`torch.optim.lr_scheduler.LambdaLR` with the appropriate schedule.\n",
    "\t\"\"\"\n",
    "\tdef lr_lambda(current_step):\n",
    "\t\t# Warmup\n",
    "\t\tif current_step < num_warmup_steps:\n",
    "\t\t\treturn float(current_step) / float(max(1, num_warmup_steps))\n",
    "\t\t# decadence\n",
    "\t\tprogress = float(current_step - num_warmup_steps) / float(\n",
    "\t\t\tmax(1, num_training_steps - num_warmup_steps)\n",
    "\t\t)\n",
    "\t\treturn max(\n",
    "\t\t\t0.0, 0.5 * (1.0 + math.cos(math.pi * float(num_cycles) * 2.0 * progress))\n",
    "\t\t)\n",
    "\n",
    "\treturn LambdaLR(optimizer, lr_lambda, last_epoch)\n",
    "\n",
    "optimizer = AdamW(model.parameters(), lr=1e-3)\n",
    "scheduler = get_cosine_schedule_with_warmup(optimizer, warmup_steps, total_steps)\n",
    "\n",
    "optimizer.step()\n",
    "scheduler.step()"
   ]
  },
  {
   "cell_type": "markdown",
   "metadata": {},
   "source": [
    "# 正则化\n",
    "- Layer−>BatchNorm−>Activation\n",
    "- Layer−>Activation−>LayerNorm\n",
    "- Layer−>Activation−>BatchNorm(可选)−>Dropout"
   ]
  },
  {
   "cell_type": "code",
   "execution_count": null,
   "metadata": {},
   "outputs": [],
   "source": [
    "# 定义L1正则化的函数\n",
    "def l1_penalty(params, lamb):\n",
    "    l1_norm = sum(p.abs().sum() for p in params)\n",
    "    return lamb * l1_norm\n",
    "\n",
    "# 定义模型\n",
    "model = nn.Sequential(\n",
    "    nn.Linear(10, 5),\n",
    "    nn.ReLU(),\n",
    "    nn.Linear(5, 1)\n",
    ")\n",
    "\n",
    "# 定义损失函数\n",
    "criterion = nn.MSELoss()\n",
    "\n",
    "# 定义优化器\n",
    "optimizer = optim.SGD(model.parameters(), lr=0.01)\n",
    "\n",
    "# 在训练循环中添加L1正则化\n",
    "for epoch in range(num_epochs):\n",
    "    optimizer.zero_grad()\n",
    "    outputs = model(inputs)\n",
    "    loss = criterion(outputs, targets)\n",
    "    loss += l1_penalty(model.parameters(), lamb=0.01)  # 0.01是L1正则化系数\n",
    "    loss.backward()\n",
    "    optimizer.step()"
   ]
  },
  {
   "cell_type": "markdown",
   "metadata": {},
   "source": [
    "# Sofmax\n",
    "- https://blog.csdn.net/qq_22841387/article/details/141328944"
   ]
  },
  {
   "cell_type": "code",
   "execution_count": null,
   "metadata": {},
   "outputs": [
    {
     "name": "stdout",
     "output_type": "stream",
     "text": [
      "hard: [0. 1. 0.]\n",
      "soft: [0.28140804 0.46396343 0.25462853]\n",
      "soft: [0.28140804 0.46396343 0.25462853]\n",
      "torch: tensor([0.2814, 0.4640, 0.2546], dtype=torch.float64)\n"
     ]
    }
   ],
   "source": [
    "import numpy as np\n",
    "outputs =  np.array([0.2,0.7,0.1])\n",
    "# hardmax=>导致潜在信息丢失\n",
    "def hardmax(x):\n",
    "    x = np.array(x == x.max(), dtype=float)\n",
    "    return x\n",
    "print(\"hard:\",hardmax(outputs))\n",
    "# softmax=>保留概率信息，但存在数值不稳定问题\n",
    "def softmax(x):\n",
    "    x = np.exp(x)\n",
    "    return x / x.sum()\n",
    "print(\"soft:\",softmax(outputs))\n",
    "# 减去最大值=》数值稳定\n",
    "def softmax1(x):\n",
    "    x = np.exp(x - np.max(x))\n",
    "    return x / x.sum()\n",
    "print(\"soft:\",softmax1(outputs))\n",
    "# 调用torch实现softmax\n",
    "import torch\n",
    "import torch.nn.functional as F\n",
    "outputs = torch.tensor(outputs)\n",
    "print(\"torch:\",F.softmax(outputs,dim=0))"
   ]
  },
  {
   "cell_type": "code",
   "execution_count": null,
   "metadata": {},
   "outputs": [],
   "source": [
    "# softmax的局限性1：类别特别大时，计算量大\n",
    "from gensim.models import Word2Vec\n",
    "### Hierarchical Softmax -> word2vec中通过构建霍夫曼树，使得常见词的路径短，降低计算量\n",
    "model = Word2Vec('sentence', hs=1, size=100, window=5, min_count=5) # hs=1表示使用Hierarchical Softmax\n",
    "### Negative Sampling -> word2vec中对每个正样本，随机采样K个负样本来训练，降低计算量\n",
    "# https://blog.csdn.net/Oscar6280868/article/details/105678035\n",
    "model = Word2Vec('sentence', negative=5, size=100, window=5, min_count=5) # negative=5表示使用Negative Sampling"
   ]
  },
  {
   "cell_type": "markdown",
   "metadata": {},
   "source": [
    "# 类别不均衡\n",
    "- https://mp.weixin.qq.com/s/AAlwTtV_IM6UVwQiHs70TQ\n",
    "- 数据层面：重采样，使得参与迭代计算的数据是均衡的\n",
    "  - 欠采样，过采样，SMOTE\n",
    "- 模型层面：重加权，修改模型的 loss，在 loss 计算上，加大对少样本的 loss 奖励\n",
    "  - Focal Loss: 把注意力集中于那些预测不准的样本上\n",
    "  - GHM Loss: 不要关注那些容易学的样本，也不要关注那些离群点特别难分的样本\n",
    "  - Dice Loss: 本质上直接优化 F1 指标，加上调节系数变为DSC Loss"
   ]
  },
  {
   "cell_type": "code",
   "execution_count": null,
   "metadata": {},
   "outputs": [],
   "source": [
    "# SMOTE算法\n",
    "from imblearn.over_sampling import SMOTE\n",
    "from sklearn.datasets import make_classification\n",
    "from collections import Counter\n",
    "\n",
    "# 生成一个不平衡数据集\n",
    "X, y = make_classification(n_classes=2, class_sep=2, weights=[0.1, 0.9],\n",
    "                           n_informative=3, n_redundant=1, flip_y=0,\n",
    "                           n_features=20, n_clusters_per_class=1,\n",
    "                           n_samples=1000, random_state=10)\n",
    "\n",
    "print('原始数据集类别分布:', Counter(y))\n",
    "\n",
    "# 应用 SMOTE\n",
    "smote = SMOTE(random_state=42)\n",
    "X_res, y_res = smote.fit_resample(X, y)\n",
    "\n",
    "print('应用 SMOTE 后的数据集类别分布:', Counter(y_res))"
   ]
  },
  {
   "cell_type": "code",
   "execution_count": 1,
   "metadata": {},
   "outputs": [
    {
     "name": "stdout",
     "output_type": "stream",
     "text": [
      "weighted criterion_loss: tensor(2.3112, grad_fn=<AddBackward0>)\n",
      "focal_loss: tensor(0.9505, grad_fn=<MeanBackward0>)\n",
      "ghm_loss: tensor(0.7305, grad_fn=<BinaryCrossEntropyWithLogitsBackward0>)\n",
      "dice_loss: tensor(0.1242, grad_fn=<DivBackward0>)\n"
     ]
    }
   ],
   "source": [
    "import sys\n",
    "import os\n",
    "sys.path.append(os.path.abspath(os.path.join(os.getcwd(), '..')))\n",
    "import torch\n",
    "batch_size, num_class = 64, 10\n",
    "logits = torch.rand(batch_size, num_class, requires_grad=True)  # (batch_size, num_classes)\n",
    "targets = torch.randint(0, num_class, size=(batch_size,))  # (batch_size, )\n",
    "\n",
    "# weighted CE loss\n",
    "import torch.nn as nn\n",
    "weights = torch.rand(num_class)\n",
    "criterion_loss = nn.CrossEntropyLoss(weight=weights,label_smoothing=0.1) # 加权+标签平滑\n",
    "loss = criterion_loss(logits, targets)\n",
    "print(\"weighted criterion_loss:\",loss)\n",
    "\n",
    "# focal loss\n",
    "from utils.unbalanced_loss import MultiFocalLoss\n",
    "focal_loss = MultiFocalLoss(num_class=num_class, gamma=2.0, reduction='mean')\n",
    "loss = focal_loss(logits, targets)\n",
    "print(\"focal_loss:\",loss)\n",
    "\n",
    "# GHM Loss\n",
    "from utils.unbalanced_loss import GHMC_Loss\n",
    "ghm_loss = GHMC_Loss(bins=30, alpha=0.75)\n",
    "loss = ghm_loss(logits, targets)\n",
    "print(\"ghm_loss:\",loss)\n",
    "\n",
    "# Dice Loss & DSC Loss\n",
    "from utils.unbalanced_loss import DiceLoss\n",
    "dice_loss = DiceLoss()\n",
    "loss = dice_loss(logits, targets)\n",
    "print(\"dice_loss:\",loss)"
   ]
  },
  {
   "cell_type": "markdown",
   "metadata": {},
   "source": [
    "# 距离和分布\n",
    "- https://mp.weixin.qq.com/s/zcmvDWUyO4WxxIFjorLxyA"
   ]
  },
  {
   "cell_type": "code",
   "execution_count": 1,
   "metadata": {},
   "outputs": [
    {
     "name": "stdout",
     "output_type": "stream",
     "text": [
      "euclidean_distance: tensor(5.1962)\n",
      "manhattan_distance: tensor(9.)\n",
      "chebyshev_distance: tensor(3.)\n",
      "minkowski_distance: tensor(5.1962)\n",
      "cosine_similarity: tensor(0.9746)\n"
     ]
    }
   ],
   "source": [
    "import torch\n",
    "x = torch.tensor([1, 2, 3], dtype=torch.float32)\n",
    "y = torch.tensor([4, 5, 6], dtype=torch.float32)\n",
    "# 欧式距离:两个点之间的直线距离\n",
    "def euclidean_distance(x, y):\n",
    "    return torch.sqrt(torch.sum(torch.pow(x - y, 2)))\n",
    "print(\"euclidean_distance:\",euclidean_distance(x, y))\n",
    "# 曼哈顿距离:两个点在标准坐标系上的绝对轴距总和\n",
    "def manhattan_distance(x, y):\n",
    "    return torch.sum(torch.abs(x - y))\n",
    "print(\"manhattan_distance:\",manhattan_distance(x, y))\n",
    "# 切比雪夫距离:两个点在标准坐标系上的绝对轴距的最大值\n",
    "def chebyshev_distance(x, y):\n",
    "    return torch.max(torch.abs(x - y))\n",
    "print(\"chebyshev_distance:\",chebyshev_distance(x, y))\n",
    "# 闵可夫斯基距离:欧式距离和曼哈顿距离的推广，p=1时为曼哈顿距离，p=2时为欧式距离\n",
    "def minkowski_distance(x, y, p):\n",
    "    return torch.pow(torch.sum(torch.pow(torch.abs(x - y), p)), 1 / p)\n",
    "print(\"minkowski_distance:\",minkowski_distance(x, y, 2))\n",
    "# 余弦相似度:两个向量夹角的余弦值\n",
    "def cosine_similarity(x, y):\n",
    "    return torch.dot(x, y) / (torch.norm(x) * torch.norm(y))\n",
    "print(\"cosine_similarity:\",cosine_similarity(x, y))"
   ]
  },
  {
   "cell_type": "code",
   "execution_count": 6,
   "metadata": {},
   "outputs": [
    {
     "data": {
      "text/plain": [
       "<matplotlib.legend.Legend at 0x1dab4506f10>"
      ]
     },
     "execution_count": 6,
     "metadata": {},
     "output_type": "execute_result"
    },
    {
     "data": {
      "image/png": "[encoded data removed]",
      "text/plain": [
       "<Figure size 1000x500 with 1 Axes>"
      ]
     },
     "metadata": {},
     "output_type": "display_data"
    }
   ],
   "source": [
    "# Kulback-Leibler散度\n",
    "def kl_divergence(p, q):\n",
    "    return np.sum(p * np.log(p / q))\n",
    "# Jensen-Shannon散度\n",
    "def js_divergence(p, q):\n",
    "    m = 0.5 * (p + q)\n",
    "    return 0.5 * kl_divergence(p, m) + 0.5 * kl_divergence(q, m)\n",
    "# Renyi散度\n",
    "def renyi_divergence(p, q, alpha=2):\n",
    "    return (1 / (alpha - 1)) * np.log(np.sum(np.power(p, alpha) * np.power(q, 1 - alpha)))\n",
    "# Hellinger距离: 两个概率分布的相似度\n",
    "def hellinger_distance(p, q):\n",
    "    return np.sqrt(0.5 * np.sum(np.power(np.sqrt(p) - np.sqrt(q), 2)))\n",
    "# Bhattacharyya距离: 两个概率分布的相似度\n",
    "def bhattacharyya_distance(p, q):\n",
    "    return -np.log(np.sum(np.sqrt(p * q)))\n",
    "# Wasserstein距离: 两个概率分布的相似度(Earth Mover's Distance)\n",
    "def wasserstein_distance(p, q):\n",
    "    return np.sum(np.abs(np.cumsum(p) - np.cumsum(q)))\n",
    "\n",
    "# 计算每周的分布之间的各个指标，并绘制折线图\n",
    "import matplotlib.pyplot as plt\n",
    "import numpy as np\n",
    "weeks = {  \n",
    "     'Week 1': np.array([0.3, 0.4, 0.2, 0.05, 0.05]),  \n",
    "     'Week 2': np.array([0.25, 0.45, 0.2, 0.05, 0.05]),  \n",
    "     'Week 3': np.array([0.2, 0.5, 0.2, 0.05, 0.05]),  \n",
    "     'Week 4': np.array([0.15, 0.55, 0.2, 0.05, 0.05]),  \n",
    "     'Week 5': np.array([0.1, 0.6, 0.2, 0.05, 0.05]),  \n",
    "     'Week 6': np.array([0.1, 0.55, 0.25, 0.05, 0.05]),  \n",
    "     'Week 7': np.array([0.05, 0.65, 0.25, 0.025, 0.025]),  \n",
    " }\n",
    "kl_divergences, js_divergences, renyi_divergences, hellinger_distances, bhattacharyya_distances, wasserstein_distances = [], [], [], [], [], []\n",
    "p = weeks['Week 1']\n",
    "for week, q in weeks.items():\n",
    "    kl_divergences.append(kl_divergence(p, q))\n",
    "    js_divergences.append(js_divergence(p, q))\n",
    "    renyi_divergences.append(renyi_divergence(p, q))\n",
    "    hellinger_distances.append(hellinger_distance(p, q))\n",
    "    bhattacharyya_distances.append(bhattacharyya_distance(p, q))\n",
    "    wasserstein_distances.append(wasserstein_distance(p, q))\n",
    "plt.figure(figsize=(10, 5))\n",
    "plt.plot(list(weeks.keys()), kl_divergences, label='KL Divergence', marker='o')\n",
    "plt.plot(list(weeks.keys()), js_divergences, label='JS Divergence', marker='o')\n",
    "plt.plot(list(weeks.keys()), renyi_divergences, label='Renyi Divergence', marker='o')\n",
    "plt.plot(list(weeks.keys()), hellinger_distances, label='Hellinger Distance', marker='o')\n",
    "plt.plot(list(weeks.keys()), bhattacharyya_distances, label='Bhattacharyya Distance', marker='o')\n",
    "plt.plot(list(weeks.keys()), wasserstein_distances, label='Wasserstein Distance', marker='o')\n",
    "plt.legend()\n"
   ]
  },
  {
   "cell_type": "code",
   "execution_count": null,
   "metadata": {},
   "outputs": [],
   "source": []
  }
 ],
 "metadata": {
  "kernelspec": {
   "display_name": "demo",
   "language": "python",
   "name": "python3"
  },
  "language_info": {
   "codemirror_mode": {
    "name": "ipython",
    "version": 3
   },
   "file_extension": ".py",
   "mimetype": "text/x-python",
   "name": "python",
   "nbconvert_exporter": "python",
   "pygments_lexer": "ipython3",
   "version": "3.9.20"
  }
 },
 "nbformat": 4,
 "nbformat_minor": 2
}
